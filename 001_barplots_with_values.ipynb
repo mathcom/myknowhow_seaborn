{
 "cells": [
  {
   "cell_type": "code",
   "execution_count": 1,
   "id": "c0a7b484",
   "metadata": {},
   "outputs": [],
   "source": [
    "import pandas as pd\n",
    "import seaborn as sns\n",
    "import matplotlib.pyplot as plt"
   ]
  },
  {
   "cell_type": "code",
   "execution_count": 2,
   "id": "e3401dfd",
   "metadata": {},
   "outputs": [
    {
     "data": {
      "text/html": [
       "<div>\n",
       "<style scoped>\n",
       "    .dataframe tbody tr th:only-of-type {\n",
       "        vertical-align: middle;\n",
       "    }\n",
       "\n",
       "    .dataframe tbody tr th {\n",
       "        vertical-align: top;\n",
       "    }\n",
       "\n",
       "    .dataframe thead th {\n",
       "        text-align: right;\n",
       "    }\n",
       "</style>\n",
       "<table border=\"1\" class=\"dataframe\">\n",
       "  <thead>\n",
       "    <tr style=\"text-align: right;\">\n",
       "      <th></th>\n",
       "      <th>navitoclax</th>\n",
       "      <th>obatoclax</th>\n",
       "      <th>abt-737</th>\n",
       "    </tr>\n",
       "  </thead>\n",
       "  <tbody>\n",
       "    <tr>\n",
       "      <th>Bcl-2</th>\n",
       "      <td>10.36</td>\n",
       "      <td>5.95</td>\n",
       "      <td>8.16</td>\n",
       "    </tr>\n",
       "    <tr>\n",
       "      <th>Bcl-xl</th>\n",
       "      <td>8.34</td>\n",
       "      <td>5.33</td>\n",
       "      <td>7.65</td>\n",
       "    </tr>\n",
       "    <tr>\n",
       "      <th>Bcl-w</th>\n",
       "      <td>6.61</td>\n",
       "      <td>5.95</td>\n",
       "      <td>6.55</td>\n",
       "    </tr>\n",
       "    <tr>\n",
       "      <th>Mcl-1</th>\n",
       "      <td>6.26</td>\n",
       "      <td>5.85</td>\n",
       "      <td>4.68</td>\n",
       "    </tr>\n",
       "  </tbody>\n",
       "</table>\n",
       "</div>"
      ],
      "text/plain": [
       "        navitoclax  obatoclax  abt-737\n",
       "Bcl-2        10.36       5.95     8.16\n",
       "Bcl-xl        8.34       5.33     7.65\n",
       "Bcl-w         6.61       5.95     6.55\n",
       "Mcl-1         6.26       5.85     4.68"
      ]
     },
     "execution_count": 2,
     "metadata": {},
     "output_type": "execute_result"
    }
   ],
   "source": [
    "data = pd.DataFrame([[10.36, 05.95, 08.16],\n",
    "                     [08.34, 05.33, 07.65],\n",
    "                     [06.61, 05.95, 06.55],\n",
    "                     [06.26, 05.85, 04.68]],\n",
    "                    columns=['navitoclax', 'obatoclax', 'abt-737'],\n",
    "                    index=['Bcl-2', 'Bcl-xl', 'Bcl-w', 'Mcl-1'])\n",
    "\n",
    "data"
   ]
  },
  {
   "cell_type": "code",
   "execution_count": 3,
   "id": "aeb41d2b",
   "metadata": {},
   "outputs": [
    {
     "data": {
      "text/html": [
       "<div>\n",
       "<style scoped>\n",
       "    .dataframe tbody tr th:only-of-type {\n",
       "        vertical-align: middle;\n",
       "    }\n",
       "\n",
       "    .dataframe tbody tr th {\n",
       "        vertical-align: top;\n",
       "    }\n",
       "\n",
       "    .dataframe thead th {\n",
       "        text-align: right;\n",
       "    }\n",
       "</style>\n",
       "<table border=\"1\" class=\"dataframe\">\n",
       "  <thead>\n",
       "    <tr style=\"text-align: right;\">\n",
       "      <th></th>\n",
       "      <th>Drug</th>\n",
       "      <th>Target</th>\n",
       "      <th>Score</th>\n",
       "    </tr>\n",
       "  </thead>\n",
       "  <tbody>\n",
       "    <tr>\n",
       "      <th>0</th>\n",
       "      <td>navitoclax</td>\n",
       "      <td>Bcl-2</td>\n",
       "      <td>10.36</td>\n",
       "    </tr>\n",
       "    <tr>\n",
       "      <th>1</th>\n",
       "      <td>obatoclax</td>\n",
       "      <td>Bcl-2</td>\n",
       "      <td>5.95</td>\n",
       "    </tr>\n",
       "    <tr>\n",
       "      <th>2</th>\n",
       "      <td>abt-737</td>\n",
       "      <td>Bcl-2</td>\n",
       "      <td>8.16</td>\n",
       "    </tr>\n",
       "    <tr>\n",
       "      <th>3</th>\n",
       "      <td>navitoclax</td>\n",
       "      <td>Bcl-xl</td>\n",
       "      <td>8.34</td>\n",
       "    </tr>\n",
       "    <tr>\n",
       "      <th>4</th>\n",
       "      <td>obatoclax</td>\n",
       "      <td>Bcl-xl</td>\n",
       "      <td>5.33</td>\n",
       "    </tr>\n",
       "    <tr>\n",
       "      <th>5</th>\n",
       "      <td>abt-737</td>\n",
       "      <td>Bcl-xl</td>\n",
       "      <td>7.65</td>\n",
       "    </tr>\n",
       "    <tr>\n",
       "      <th>6</th>\n",
       "      <td>navitoclax</td>\n",
       "      <td>Bcl-w</td>\n",
       "      <td>6.61</td>\n",
       "    </tr>\n",
       "    <tr>\n",
       "      <th>7</th>\n",
       "      <td>obatoclax</td>\n",
       "      <td>Bcl-w</td>\n",
       "      <td>5.95</td>\n",
       "    </tr>\n",
       "    <tr>\n",
       "      <th>8</th>\n",
       "      <td>abt-737</td>\n",
       "      <td>Bcl-w</td>\n",
       "      <td>6.55</td>\n",
       "    </tr>\n",
       "    <tr>\n",
       "      <th>9</th>\n",
       "      <td>navitoclax</td>\n",
       "      <td>Mcl-1</td>\n",
       "      <td>6.26</td>\n",
       "    </tr>\n",
       "    <tr>\n",
       "      <th>10</th>\n",
       "      <td>obatoclax</td>\n",
       "      <td>Mcl-1</td>\n",
       "      <td>5.85</td>\n",
       "    </tr>\n",
       "    <tr>\n",
       "      <th>11</th>\n",
       "      <td>abt-737</td>\n",
       "      <td>Mcl-1</td>\n",
       "      <td>4.68</td>\n",
       "    </tr>\n",
       "  </tbody>\n",
       "</table>\n",
       "</div>"
      ],
      "text/plain": [
       "          Drug  Target  Score\n",
       "0   navitoclax   Bcl-2  10.36\n",
       "1    obatoclax   Bcl-2   5.95\n",
       "2      abt-737   Bcl-2   8.16\n",
       "3   navitoclax  Bcl-xl   8.34\n",
       "4    obatoclax  Bcl-xl   5.33\n",
       "5      abt-737  Bcl-xl   7.65\n",
       "6   navitoclax   Bcl-w   6.61\n",
       "7    obatoclax   Bcl-w   5.95\n",
       "8      abt-737   Bcl-w   6.55\n",
       "9   navitoclax   Mcl-1   6.26\n",
       "10   obatoclax   Mcl-1   5.85\n",
       "11     abt-737   Mcl-1   4.68"
      ]
     },
     "execution_count": 3,
     "metadata": {},
     "output_type": "execute_result"
    }
   ],
   "source": [
    "records = []\n",
    "\n",
    "for i, rname in enumerate(data.index):\n",
    "    for j, cname in enumerate(data.columns):\n",
    "        val = data.iloc[i,j]\n",
    "        records.append((cname, rname, val))\n",
    "        \n",
    "df = pd.DataFrame.from_records(records, columns=['Drug', 'Target', 'Score'])\n",
    "df"
   ]
  },
  {
   "cell_type": "code",
   "execution_count": 4,
   "id": "bf93426f",
   "metadata": {},
   "outputs": [
    {
     "data": {
      "image/png": "[encoded data removed]",
      "text/plain": [
       "<Figure size 864x360 with 1 Axes>"
      ]
     },
     "metadata": {
      "needs_background": "light"
     },
     "output_type": "display_data"
    }
   ],
   "source": [
    "sns.set_theme(style='whitegrid')\n",
    "\n",
    "fig, ax = plt.subplots(1, 1, figsize=(12,5))\n",
    "\n",
    "_ = sns.barplot(data=df, x='Target', y='Score', hue='Drug', ax=ax)\n",
    "\n",
    "for container in ax.containers:\n",
    "    ax.bar_label(container, fmt='%.3f', rotation=45, fontsize=16)\n",
    "    \n",
    "ax.set_ylim(4, 12)\n",
    "    \n",
    "plt.show()"
   ]
  },
  {
   "cell_type": "code",
   "execution_count": null,
   "id": "6e301c9a",
   "metadata": {},
   "outputs": [],
   "source": []
  }
 ],
 "metadata": {
  "kernelspec": {
   "display_name": "Python 3 (ipykernel)",
   "language": "python",
   "name": "python3"
  },
  "language_info": {
   "codemirror_mode": {
    "name": "ipython",
    "version": 3
   },
   "file_extension": ".py",
   "mimetype": "text/x-python",
   "name": "python",
   "nbconvert_exporter": "python",
   "pygments_lexer": "ipython3",
   "version": "3.10.4"
  }
 },
 "nbformat": 4,
 "nbformat_minor": 5
}
